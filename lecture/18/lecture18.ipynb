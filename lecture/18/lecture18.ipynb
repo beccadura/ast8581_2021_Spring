{
 "cells": [
  {
   "cell_type": "code",
   "execution_count": 1,
   "metadata": {
    "slideshow": {
     "slide_type": "skip"
    }
   },
   "outputs": [],
   "source": [
    "from notebook.services.config import ConfigManager\n",
    "cm = ConfigManager()\n",
    "cm.update('livereveal', {\n",
    "        'width': 1024,\n",
    "        'height': 768,\n",
    "        'scroll': True,\n",
    "})\n",
    "%config InlineBackend.figure_format = 'retina'\n",
    "%matplotlib inline\n",
    "plt.rcParams['figure.figsize'] = [10, 8]"
   ]
  },
  {
   "cell_type": "markdown",
   "metadata": {
    "slideshow": {
     "slide_type": "slide"
    }
   },
   "source": [
    "# Week 10 (Wednesday), AST 8581 / PHYS 8581 / CSCI 8581: Big Data in Astrophysics\n",
    "\n",
    "### Michael Coughlin <cough052@umn.edu>, Michael Steinbach <stei0062@umn.edu>, Nico Adams adams900@umn.edu\n",
    "\n",
    "\n",
    "with contributions totally ripped off from Gautham Narayan (UIUC)\n",
    "\n",
    "\n",
    "## Density-based clustering methods, Anomaly Detection, Dealing with Errors"
   ]
  },
  {
   "cell_type": "markdown",
   "metadata": {},
   "source": [
    "# Where do we stand?\n",
    "\n",
    "Foundations of Data and Probability -> Statistical frameworks (Frequentist vs Bayesian) -> Estimating underlying distributions -> Analysis of Time series (periodicity) -> Analysis of Time series (variability) -> Analysis of Time series (stochastic processes) -> Gaussian Processes -> Decision Trees / Regression -> Dimensionality Reduction -> Principle Component Analysis -> Clustering -> Density Estimation / Anomaly Detection"
   ]
  },
  {
   "cell_type": "markdown",
   "metadata": {
    "slideshow": {
     "slide_type": "slide"
    }
   },
   "source": [
    "## Recap\n",
    "\n",
    "- Parametric methods of clustering (k-means, GMMs)\n",
    "    - stochastic - results depend on initial guesses and number of clusters\n",
    "    - k-means is **centroid-based** - separating sample into ~equal numbers of objects in each of $k$ clusters\n",
    "    - GMMs is **distribution-based** - assume a shape for a distribution (and therefore density) and model the data as being drawn from that distribution\n",
    "\n",
    "- Neither work well when the cluster is defined in terms of density of points\n",
    "\n",
    "<table>\n",
    "    <tr>\n",
    "        <th>\n",
    "            <img src=\"figures/KMeans-density-data.svg.png\", width=\"80%\">\n",
    "        </th>\n",
    "        <th>\n",
    "            <img src=\"figures/EM-density-data.svg.png\">\n",
    "        </th>        \n",
    "    </tr>\n",
    "</table>"
   ]
  },
  {
   "cell_type": "markdown",
   "metadata": {
    "slideshow": {
     "slide_type": "subslide"
    }
   },
   "source": [
    " \n",
    "- Clustering is more general than finding groups of similar things - **density estimation**\n",
    "    - Non-parametric methods (kernel density estimation -> hierarchical clustering)\n",
    "        - deterministic - you'll get the exact same results each time and you don't have to pick a number of clusters\n",
    "        - **linkage/connectivity-based** \n",
    "            - **agglomerative** - hierarchical clustering builds up clusters by associating points together\n",
    "        - Because you have to build a tree structure out of $N$ datapoints, these methods are inefficient for large $N$ ($O(n^3)$ for hierarchical clustering) \n",
    "        - there is no notion of *noise* - outliers can become their own clusters - or worse an outlier from two clusters can caused both to be linked incorrectly\n",
    "        \n",
    "<img src=\"figures/HLINK-density-data.svg.png\">\n",
    "\n",
    "        \n",
    "        \n",
    "        "
   ]
  },
  {
   "cell_type": "markdown",
   "metadata": {},
   "source": [
    "## What intuition am I supposed to take from the clustering methods?\n",
    "\n",
    "Structure exists on nearly all scales in the universe. Matter clumps under its own gravity into planets, stars, galaxies, clusters, and superclusters. Beyond even these in scale are the filaments and voids. The largest of these filaments is known as the Sloan Great Wall. This giant string of galaxies is 1.4 billion light years across making it the largest known structure in the universe. \n",
    "\n",
    "The study of such properties will help astronomers to test cosmological models that predict galactic structure formation. The models generally fall short in creating the size, morphology and distribution of the formations we see, which arise from density fluctuations initially present during the Big Bang. As such, understanding the structures they formed will help astronomers to understand these perturbations in greater detail and, in turn, what physics would be necessary to achieve them."
   ]
  },
  {
   "cell_type": "markdown",
   "metadata": {
    "slideshow": {
     "slide_type": "slide"
    }
   },
   "source": [
    "## Density-based clustering\n",
    "\n",
    "- Rather than a linkage based approach that which considers $k$ neighbors to each point (regardless of distance modulo some overall distance threshold), these approaches look at how closely packed points are - i.e. the **local density**\n",
    "\n",
    "- Points that are in low-density regions are marked as **outliers**\n",
    "    - effectively demand that each point have at least MinPts neighbors within some distance, epsilon\n",
    "\n",
    "\n",
    "Implementation:\n",
    "    - Pick a random point in the data that hasn't been checked yet\n",
    "    - Given some epsilon, find if there are at least MinPts within epsilon of point\n",
    "        - if yes\n",
    "            - start a cluster\n",
    "        - else\n",
    "            - mark as noise (may be later marked as member of a different cluster)\n",
    "        - mark any points within epsilon of cluster points as also part of the cluster\n",
    "        - grow cluster until there are no other points that can be added\n",
    "    - repeat until all points visited          "
   ]
  },
  {
   "cell_type": "markdown",
   "metadata": {
    "slideshow": {
     "slide_type": "subslide"
    }
   },
   "source": [
    "- Common implementations: DBSCAN and OPTICS (both in `sklearn.cluster`)\n",
    "    - OPTICS handles clusters with different densities better but is significantly slower\n",
    "- not completely deterministic - depends on order points are visited, but still **agglomerative** (compare vs decision trees that splits the data up into smaller groups - **divisive** \n",
    "- still don't need to specify a number of clusters or cluster centers/widths - i.e. clusters can have arbitrary shapes rather than say a GMM\n",
    "    - can be fiddly and needs some fine-tuning of epsilon **LOOK AT YOUR DATA**\n",
    "    "
   ]
  },
  {
   "cell_type": "markdown",
   "metadata": {
    "slideshow": {
     "slide_type": "slide"
    }
   },
   "source": [
    " ## Uses in Astrophysics \n",
    " \n",
    " <img src=\"figures/gamma_DBSCAN.jpg\">\n",
    " \n",
    " Finding clusters in Fermi-LAT $\\gamma$ ray data: https://www.aanda.org/articles/aa/abs/2013/01/aa20133-12/aa20133-12.html\n",
    " \n",
    " \n",
    "Gamma-ray astronomers could feasibly name all their photons, so finding clusters this way is really looking for overdensities on a map that is otherwise white noise - because number counts are so low, detections are very significant, but this is a way to automate over large area\n",
    " "
   ]
  },
  {
   "cell_type": "markdown",
   "metadata": {
    "slideshow": {
     "slide_type": "subslide"
    }
   },
   "source": [
    "The opposite problem also works - the background is high and the clusters are barely variation on the background:\n",
    "\n",
    "<img src=\"figures/GAIA_DR2_clusters.jpg\">"
   ]
  },
  {
   "cell_type": "markdown",
   "metadata": {
    "slideshow": {
     "slide_type": "subslide"
    }
   },
   "source": [
    "And of course, you don't have to do this in RA, Dec space at all - here in 15 dimensional PCA on spectra space:\n",
    "\n",
    "<img src=\"figures/Clustering_chem_abundances.png\">"
   ]
  },
  {
   "cell_type": "markdown",
   "metadata": {
    "slideshow": {
     "slide_type": "slide"
    }
   },
   "source": [
    "# In-class exercise\n",
    "\n",
    "There's some noisy real color-magnitude data for stars in `colormag.csv`\n",
    "\n",
    "1. preprocess the data (i.e. scale the magnitudes and colors in some way that makes your results insensitive to the scale of the values\n",
    "\n",
    "2. use k-means, GMMs, hierarchical clustering and DBSCAN to cluster the dataset into similar groups. You can pick the sizes of clusters/initial estimates for parameters however you like\n",
    "\n",
    "3. in each case, the clustering instance that you create will have a `.labels_` attribute - use this to color the points in a scatter plot \n"
   ]
  },
  {
   "cell_type": "code",
   "execution_count": 1,
   "metadata": {
    "slideshow": {
     "slide_type": "slide"
    }
   },
   "outputs": [],
   "source": [
    "## YOUR SOLUTION HERE\n",
    "\n",
    "import pandas as pd\n",
    "import numpy as np\n",
    "import matplotlib.pyplot as plt\n",
    "X = pd.read_csv('data/colormag.csv', names=['color', 'mag'])"
   ]
  },
  {
   "cell_type": "code",
   "execution_count": null,
   "metadata": {
    "slideshow": {
     "slide_type": "slide"
    }
   },
   "outputs": [],
   "source": [
    "import sklearn\n",
    "from sklearn.preprocessing import StandardScaler\n",
    "z = StandardScaler()\n",
    "Xt = z.fit_transform(...\n",
    "plt.scatter(Xt[:,0], Xt[:,1])\n",
    "ax = plt.gca()\n",
    "ax.set_xlabel('Color', fontsize='xx-large')\n",
    "ax.set_ylabel('Mag', fontsize='xx-large');"
   ]
  },
  {
   "cell_type": "code",
   "execution_count": null,
   "metadata": {
    "slideshow": {
     "slide_type": "slide"
    }
   },
   "outputs": [],
   "source": [
    "from sklearn.mixture import GaussianMixture\n",
    "from sklearn.cluster import DBSCAN, KMeans\n",
    "\n",
    "gmm = GaussianMixture(...\n",
    "gmm.fit(...\n",
    "labels = gmm.predict(...\n",
    "\n",
    "color = [f'C{i}' for i in labels]\n",
    "plt.scatter(Xt[:,0], Xt[:,1], color=color)\n",
    "ax = plt.gca()\n",
    "ax.set_xlabel('Color', fontsize='xx-large')\n",
    "ax.set_ylabel('Mag', fontsize='xx-large')\n",
    "ax.set_title('GMMs', fontsize='xx-large');"
   ]
  },
  {
   "cell_type": "code",
   "execution_count": null,
   "metadata": {
    "slideshow": {
     "slide_type": "slide"
    }
   },
   "outputs": [],
   "source": [
    "kmeans = KMeans(...\n",
    "kmeans.fit(...\n",
    "labels = kmeans.labels_\n",
    "color = [f'C{i}' for i in labels]\n",
    "plt.scatter(Xt[:,0], Xt[:,1], color=color)\n",
    "ax = plt.gca()\n",
    "\n",
    "ax.set_xlabel('Color', fontsize='xx-large')\n",
    "ax.set_ylabel('Mag', fontsize='xx-large')\n",
    "ax.set_title('kMeans', fontsize='xx-large');"
   ]
  },
  {
   "cell_type": "code",
   "execution_count": null,
   "metadata": {
    "slideshow": {
     "slide_type": "slide"
    }
   },
   "outputs": [],
   "source": [
    "dbs = DBSCAN(...\n",
    "dbs.fit(...\n",
    "labels = dbs.labels_\n",
    "labels += labels.min()\n",
    "labels = np.abs(labels)\n",
    "color = [f'C{i}' for i in labels]\n",
    "plt.scatter(Xt[:,0], Xt[:,1], color=color)\n",
    "ax = plt.gca()\n",
    "ax.set_xlabel('Color', fontsize='xx-large')\n",
    "ax.set_ylabel('Mag', fontsize='xx-large')\n",
    "ax.set_title('DBSCAN', fontsize='xx-large');"
   ]
  },
  {
   "cell_type": "markdown",
   "metadata": {
    "slideshow": {
     "slide_type": "slide"
    }
   },
   "source": [
    "## Extreme Deconvolution\n",
    "\n",
    "Real data come with uncertainties\n",
    "\n",
    "Extreme Deconvolution is parametric density estimation on a *noisy* d-dimensional dataset\n",
    "- Straightforward generalization of Gaussian Mixture Models conceptually but much slower\n",
    "    \n",
    "\n",
    "You have some real obsevations $\\mathbf{x}_i$ in d-dimensions *with zero-mean Gaussian noise* $\\epsilon_i$ with known per-datapoint covariance $S_i$ to a projection $R_i$ of a true value $\\mathbf{v}_i$\n",
    "\n",
    "\n",
    "## $$\n",
    "\\mathbf{x}_{i}=R_{i} \\mathbf{v}_{i}+\\epsilon_{i}, \\quad \\epsilon_{i} \\sim \\mathcal{N}\\left(\\mathbf{0}, S_{i}\\right)\n",
    "$$\n",
    "\n",
    "We assume that $\\mathbf{v}_i$ can be modelled by a mixture of Gaussians with K components (i.e. a GMM):\n",
    "\n",
    "## $$\n",
    "p\\left(\\mathbf{v}_{i} | \\theta\\right)=\\sum_{j}^{K} \\alpha_{j} \\mathcal{N}\\left(\\mathbf{v} | \\mathbf{\\mu}_{j}, \\Sigma_{j}\\right)$$\n",
    "\n",
    "with the components mean the mean, covariance and mixture coefficients of each Gaussian being the parameters that we solve for as before:\n",
    "\n",
    "## $$\\theta=\\left\\{\\alpha_{j}, \\mathbf{\\mu}_{j}, \\Sigma_{j}\\right\\}_{j=1}^{K}\n",
    "$$\n",
    "\n",
    "\n",
    "Just as before the likelihood is easy:\n",
    "## $$\n",
    "\\mathcal{L}(\\theta)=\\sum_{i}^{N} \\log \\sum_{j}^{K} \\alpha_{j} \\mathcal{N}\\left(\\mathbf{x}_{i} | R_{i} \\mathbf{\\mu}_{j}, C_{i j}\\right)$$\n",
    "\n",
    "#### BUT NOW THE COVARIANCE MATRIX INCLUDES THE ERRORS IN THE OBSERVATIONS\n",
    "\n",
    "## $$ C_{i j}=R_{i} \\Sigma_{j} R_{i}^{T}+S_{i}\n",
    "$$\n",
    "\n",
    "Now instead of estimating the covariance of just the $k$ GMM components, you now have the the $n \\times n$ covariance matrix of the observations.\n",
    "\n",
    "This is unfortunate because the covariance matrix appears as the inverse in the likelihood."
   ]
  },
  {
   "cell_type": "code",
   "execution_count": 3,
   "metadata": {
    "slideshow": {
     "slide_type": "slide"
    }
   },
   "outputs": [],
   "source": [
    "from __future__ import print_function, division\n",
    "\n",
    "import numpy as np\n",
    "from matplotlib import pyplot as plt\n",
    "\n",
    "from astroML.density_estimation import XDGMM\n",
    "from astroML.crossmatch import crossmatch\n",
    "from astroML.datasets import fetch_sdss_S82standards, fetch_imaging_sample\n",
    "from astroML.plotting.tools import draw_ellipse\n",
    "from astroML.utils.decorators import pickle_results\n",
    "from astroML.stats import sigmaG\n",
    "\n",
    "#----------------------------------------------------------------------\n",
    "# This function adjusts matplotlib settings for a uniform feel in the textbook.\n",
    "# Note that with usetex=True, fonts are rendered with LaTeX.  This may\n",
    "# result in an error if LaTeX is not installed on your system.  In that case,\n",
    "# you can set usetex to False.\n",
    "if \"setup_text_plots\" not in globals():\n",
    "    from astroML.plotting import setup_text_plots\n",
    "setup_text_plots(fontsize=8, usetex=True)"
   ]
  },
  {
   "cell_type": "code",
   "execution_count": 37,
   "metadata": {
    "slideshow": {
     "slide_type": "subslide"
    }
   },
   "outputs": [],
   "source": [
    "#------------------------------------------------------------\n",
    "# define u-g-r-i-z extinction from Berry et al, arXiv 1111.4985\n",
    "# multiply extinction by A_r\n",
    "extinction_vector = np.array([1.810, 1.400, 1.0, 0.759, 0.561])\n",
    "\n",
    "#----------------------------------------------------------------------\n",
    "# Fetch and process the noisy imaging data\n",
    "data_noisy = fetch_imaging_sample()\n",
    "\n",
    "# select only stars\n",
    "data_noisy = data_noisy[np.where(data_noisy['type'] == 6)[0]]\n",
    "\n",
    "# Get the extinction-corrected magnitudes for each band\n",
    "X = np.hstack([data_noisy[f + 'RawPSF'] for f in 'ugriz']).T\n",
    "Xerr = np.hstack([data_noisy[f + 'psfErr'] for f in 'ugriz']).T\n",
    "\n",
    "# extinction terms from Berry et al, arXiv 1111.4985\n",
    "X -= (extinction_vector * data_noisy['rExtSFD'][:, None]).squeeze().T\n",
    "\n",
    "X = X.T\n",
    "Xerr = Xerr.T"
   ]
  },
  {
   "cell_type": "code",
   "execution_count": 36,
   "metadata": {
    "slideshow": {
     "slide_type": "subslide"
    }
   },
   "outputs": [],
   "source": [
    "#----------------------------------------------------------------------\n",
    "# Fetch and process the stacked imaging data\n",
    "data_stacked = fetch_sdss_S82standards()\n",
    "\n",
    "# cut to RA, DEC range of imaging sample\n",
    "RA = data_stacked['RA']\n",
    "DEC = data_stacked['DEC']\n",
    "data_stacked = data_stacked[(RA > 0) & (RA < 10) &\n",
    "                            (DEC > -1) & (DEC < 1)]\n",
    "\n",
    "# get stacked magnitudes for each band\n",
    "Y = np.vstack([data_stacked['mmu_' + f] for f in 'ugriz']).T\n",
    "Yerr = np.vstack([data_stacked['msig_' + f] for f in 'ugriz']).T\n",
    "\n",
    "# extinction terms from Berry et al, arXiv 1111.4985\n",
    "Y -= (extinction_vector * data_stacked['A_r'][:, None]).squeeze()\n",
    "\n",
    "# quality cuts\n",
    "g = Y[:, 1]\n",
    "mask = ((Yerr.max(1) < 0.05) &\n",
    "        (g < 20))\n",
    "data_stacked = data_stacked[mask]\n",
    "Y = Y[mask]\n",
    "Yerr = Yerr[mask]"
   ]
  },
  {
   "cell_type": "code",
   "execution_count": 39,
   "metadata": {
    "slideshow": {
     "slide_type": "subslide"
    }
   },
   "outputs": [
    {
     "name": "stdout",
     "output_type": "stream",
     "text": [
      "number of noisy points:   (12313, 2)\n",
      "number of stacked points: (12313, 2)\n",
      "(12313, 5) (12313, 5)\n",
      "size after crossmatch: (12313, 5)\n"
     ]
    }
   ],
   "source": [
    "#----------------------------------------------------------------------\n",
    "# cross-match\n",
    "#  the imaging sample contains both standard and variable stars.  We'll\n",
    "#  perform a cross-match with the standard star catalog and choose objects\n",
    "#  which are common to both.\n",
    "Xlocs = np.hstack((data_noisy['ra'][:, np.newaxis],\n",
    "                   data_noisy['dec'][:, np.newaxis])).squeeze()\n",
    "Ylocs = np.hstack((data_stacked['RA'][:, np.newaxis],\n",
    "                   data_stacked['DEC'][:, np.newaxis]))\n",
    "\n",
    "print(\"number of noisy points:  \", Xlocs.shape)\n",
    "print(\"number of stacked points:\", Ylocs.shape)\n",
    "\n",
    "# find all points within 0.9 arcsec.  This cutoff was selected\n",
    "# by plotting a histogram of the log(distances).\n",
    "dist, ind = crossmatch(Xlocs, Ylocs, max_distance=0.9 / 3600)\n",
    "\n",
    "noisy_mask = np.where(~np.isinf(dist))[0]\n",
    "stacked_mask = ind[noisy_mask]\n",
    "\n",
    "print(X.shape, Y.shape)\n",
    "\n",
    "# select the data\n",
    "data_noisy = data_noisy[noisy_mask]\n",
    "X = X[noisy_mask,:]\n",
    "Xerr = Xerr[noisy_mask,:]\n",
    "\n",
    "data_stacked = data_stacked[stacked_mask]\n",
    "Y = Y[stacked_mask]\n",
    "Yerr = Yerr[stacked_mask]\n",
    "\n",
    "# double-check that our cross-match succeeded\n",
    "assert X.shape == Y.shape\n",
    "print(\"size after crossmatch:\", X.shape)"
   ]
  },
  {
   "cell_type": "code",
   "execution_count": 40,
   "metadata": {
    "slideshow": {
     "slide_type": "subslide"
    }
   },
   "outputs": [],
   "source": [
    "#----------------------------------------------------------------------\n",
    "# perform extreme deconvolution on the noisy sample\n",
    "\n",
    "# first define mixing matrix W\n",
    "W = np.array([[0, 1, 0, 0, 0],    # g magnitude\n",
    "              [1, -1, 0, 0, 0],   # u-g color\n",
    "              [0, 1, -1, 0, 0],   # g-r color\n",
    "              [0, 0, 1, -1, 0],   # r-i color\n",
    "              [0, 0, 0, 1, -1]])  # i-z color\n",
    "\n",
    "X = np.dot(X, W.T)\n",
    "Y = np.dot(Y, W.T)\n",
    "\n",
    "# compute error covariance from mixing matrix\n",
    "Xcov = np.zeros(Xerr.shape + Xerr.shape[-1:])\n",
    "Xcov[:, range(Xerr.shape[1]), range(Xerr.shape[1])] = Xerr ** 2\n",
    "\n",
    "# each covariance C = WCW^T\n",
    "# best way to do this is with a tensor dot-product\n",
    "Xcov = np.tensordot(np.dot(Xcov, W.T), W, (-2, -1))"
   ]
  },
  {
   "cell_type": "code",
   "execution_count": 41,
   "metadata": {
    "slideshow": {
     "slide_type": "subslide"
    }
   },
   "outputs": [
    {
     "name": "stdout",
     "output_type": "stream",
     "text": [
      "@pickle_results: computing results and saving to 'XD_stellar.pkl'\n"
     ]
    },
    {
     "name": "stderr",
     "output_type": "stream",
     "text": [
      "/Users/mcoughlin/opt/anaconda3/envs/ast8581/lib/python3.7/site-packages/sklearn/mixture/_base.py:269: ConvergenceWarning: Initialization 1 did not converge. Try different init parameters, or increase max_iter, tol or check for degenerate data.\n",
      "  % (init + 1), ConvergenceWarning)\n"
     ]
    },
    {
     "name": "stdout",
     "output_type": "stream",
     "text": [
      "1: log(L) = 32868\n",
      "    (13 sec)\n",
      "2: log(L) = 33422\n",
      "    (13 sec)\n",
      "3: log(L) = 33742\n",
      "    (13 sec)\n",
      "4: log(L) = 33967\n",
      "    (14 sec)\n",
      "5: log(L) = 34155\n",
      "    (14 sec)\n",
      "6: log(L) = 34307\n",
      "    (15 sec)\n",
      "7: log(L) = 34418\n",
      "    (14 sec)\n",
      "8: log(L) = 34507\n",
      "    (14 sec)\n",
      "9: log(L) = 34583\n",
      "    (18 sec)\n",
      "10: log(L) = 34648\n",
      "    (14 sec)\n",
      "11: log(L) = 34707\n",
      "    (13 sec)\n",
      "12: log(L) = 34762\n",
      "    (13 sec)\n",
      "13: log(L) = 34818\n",
      "    (13 sec)\n",
      "14: log(L) = 34884\n",
      "    (15 sec)\n",
      "15: log(L) = 34943\n",
      "    (44 sec)\n",
      "16: log(L) = 34988\n",
      "    (35 sec)\n",
      "17: log(L) = 35028\n",
      "    (21 sec)\n",
      "18: log(L) = 35066\n",
      "    (22 sec)\n",
      "19: log(L) = 35103\n",
      "    (19 sec)\n",
      "20: log(L) = 35138\n",
      "    (18 sec)\n",
      "21: log(L) = 35174\n",
      "    (17 sec)\n",
      "22: log(L) = 35208\n",
      "    (33 sec)\n",
      "23: log(L) = 35242\n",
      "    (27 sec)\n",
      "24: log(L) = 35276\n",
      "    (20 sec)\n",
      "25: log(L) = 35310\n",
      "    (17 sec)\n",
      "26: log(L) = 35342\n",
      "    (18 sec)\n",
      "27: log(L) = 35375\n",
      "    (14 sec)\n",
      "28: log(L) = 35406\n",
      "    (14 sec)\n",
      "29: log(L) = 35436\n",
      "    (38 sec)\n",
      "30: log(L) = 35465\n",
      "    (21 sec)\n",
      "31: log(L) = 35493\n",
      "    (21 sec)\n",
      "32: log(L) = 35519\n",
      "    (15 sec)\n",
      "33: log(L) = 35543\n",
      "    (12 sec)\n",
      "34: log(L) = 35566\n",
      "    (12 sec)\n",
      "35: log(L) = 35587\n",
      "    (11 sec)\n",
      "36: log(L) = 35607\n",
      "    (11 sec)\n",
      "37: log(L) = 35625\n",
      "    (10 sec)\n",
      "38: log(L) = 35643\n",
      "    (10 sec)\n",
      "39: log(L) = 35660\n",
      "    (10 sec)\n",
      "40: log(L) = 35676\n",
      "    (11 sec)\n",
      "41: log(L) = 35691\n",
      "    (10 sec)\n",
      "42: log(L) = 35706\n",
      "    (10 sec)\n",
      "43: log(L) = 35720\n",
      "    (10 sec)\n",
      "44: log(L) = 35733\n",
      "    (10 sec)\n",
      "45: log(L) = 35745\n",
      "    (10 sec)\n",
      "46: log(L) = 35756\n",
      "    (11 sec)\n",
      "47: log(L) = 35767\n",
      "    (11 sec)\n",
      "48: log(L) = 35778\n",
      "    (11 sec)\n",
      "49: log(L) = 35787\n",
      "    (11 sec)\n",
      "50: log(L) = 35796\n",
      "    (11 sec)\n",
      "51: log(L) = 35804\n",
      "    (15 sec)\n",
      "52: log(L) = 35812\n",
      "    (14 sec)\n",
      "53: log(L) = 35820\n",
      "    (15 sec)\n",
      "54: log(L) = 35826\n",
      "    (15 sec)\n",
      "55: log(L) = 35833\n",
      "    (15 sec)\n",
      "56: log(L) = 35839\n",
      "    (14 sec)\n",
      "57: log(L) = 35844\n",
      "    (13 sec)\n",
      "58: log(L) = 35849\n",
      "    (17 sec)\n",
      "59: log(L) = 35854\n",
      "    (16 sec)\n",
      "60: log(L) = 35859\n",
      "    (14 sec)\n",
      "61: log(L) = 35863\n",
      "    (13 sec)\n",
      "62: log(L) = 35867\n",
      "    (13 sec)\n",
      "63: log(L) = 35871\n",
      "    (15 sec)\n",
      "64: log(L) = 35874\n",
      "    (14 sec)\n",
      "65: log(L) = 35878\n",
      "    (13 sec)\n",
      "66: log(L) = 35881\n",
      "    (14 sec)\n",
      "67: log(L) = 35884\n",
      "    (15 sec)\n",
      "68: log(L) = 35887\n",
      "    (19 sec)\n",
      "69: log(L) = 35889\n",
      "    (17 sec)\n",
      "70: log(L) = 35892\n",
      "    (17 sec)\n",
      "71: log(L) = 35895\n",
      "    (26 sec)\n",
      "72: log(L) = 35897\n",
      "    (24 sec)\n",
      "73: log(L) = 35899\n",
      "    (26 sec)\n",
      "74: log(L) = 35902\n",
      "    (21 sec)\n",
      "75: log(L) = 35904\n",
      "    (17 sec)\n",
      "76: log(L) = 35906\n",
      "    (18 sec)\n",
      "77: log(L) = 35908\n",
      "    (26 sec)\n",
      "78: log(L) = 35910\n",
      "    (33 sec)\n",
      "79: log(L) = 35912\n",
      "    (30 sec)\n",
      "80: log(L) = 35914\n",
      "    (30 sec)\n",
      "81: log(L) = 35915\n",
      "    (22 sec)\n",
      "82: log(L) = 35917\n",
      "    (28 sec)\n",
      "83: log(L) = 35919\n",
      "    (44 sec)\n",
      "84: log(L) = 35920\n",
      "    (29 sec)\n",
      "85: log(L) = 35922\n",
      "    (23 sec)\n",
      "86: log(L) = 35923\n",
      "    (23 sec)\n",
      "87: log(L) = 35925\n",
      "    (17 sec)\n",
      "88: log(L) = 35926\n",
      "    (16 sec)\n",
      "89: log(L) = 35928\n",
      "    (14 sec)\n",
      "90: log(L) = 35929\n",
      "    (14 sec)\n",
      "91: log(L) = 35930\n",
      "    (15 sec)\n",
      "92: log(L) = 35932\n",
      "    (18 sec)\n",
      "93: log(L) = 35933\n",
      "    (15 sec)\n",
      "94: log(L) = 35934\n",
      "    (15 sec)\n",
      "95: log(L) = 35935\n",
      "    (18 sec)\n",
      "96: log(L) = 35936\n",
      "    (35 sec)\n",
      "97: log(L) = 35937\n",
      "    (39 sec)\n",
      "98: log(L) = 35939\n",
      "    (43 sec)\n",
      "99: log(L) = 35940\n",
      "    (63 sec)\n",
      "100: log(L) = 35941\n",
      "    (34 sec)\n"
     ]
    }
   ],
   "source": [
    "#----------------------------------------------------------------------\n",
    "# This is a long calculation: save results to file\n",
    "@pickle_results(\"XD_stellar.pkl\")\n",
    "def compute_XD(n_clusters=12, rseed=0, max_iter=100, verbose=True):\n",
    "    np.random.seed(rseed)\n",
    "    clf = XDGMM(n_clusters, max_iter=max_iter, tol=1E-5, verbose=verbose)\n",
    "    clf.fit(X, Xcov)\n",
    "    return clf\n",
    "\n",
    "\n",
    "clf = compute_XD(12)\n",
    "\n",
    "#------------------------------------------------------------\n",
    "# Fit and sample from the underlying distribution\n",
    "np.random.seed(42)\n",
    "X_sample = clf.sample(X.shape[0])"
   ]
  },
  {
   "cell_type": "code",
   "execution_count": 42,
   "metadata": {
    "slideshow": {
     "slide_type": "slide"
    }
   },
   "outputs": [
    {
     "data": {
      "image/png": "[encoded data removed]",
      "text/plain": [
       "<Figure size 720x576 with 4 Axes>"
      ]
     },
     "metadata": {
      "needs_background": "light"
     },
     "output_type": "display_data"
    },
    {
     "data": {
      "image/png": "[encoded data removed]",
      "text/plain": [
       "<Figure size 720x576 with 1 Axes>"
      ]
     },
     "metadata": {
      "needs_background": "light"
     },
     "output_type": "display_data"
    }
   ],
   "source": [
    "#------------------------------------------------------------\n",
    "# plot the results\n",
    "fig = plt.figure(figsize=(10, 8))\n",
    "fig.subplots_adjust(left=0.12, right=0.95,\n",
    "                    bottom=0.1, top=0.95,\n",
    "                    wspace=0.02, hspace=0.02)\n",
    "\n",
    "# only plot 1/10 of the stars for clarity\n",
    "ax1 = fig.add_subplot(221)\n",
    "ax1.scatter(Y[::10, 2], Y[::10, 3], s=9, lw=0, c='k')\n",
    "\n",
    "ax2 = fig.add_subplot(222)\n",
    "ax2.scatter(X[::10, 2], X[::10, 3], s=9, lw=0, c='k')\n",
    "\n",
    "ax3 = fig.add_subplot(223)\n",
    "ax3.scatter(X_sample[::10, 2], X_sample[::10, 3], s=9, lw=0, c='k')\n",
    "\n",
    "ax4 = fig.add_subplot(224)\n",
    "for i in range(clf.n_components):\n",
    "    draw_ellipse(clf.mu[i, 2:4], clf.V[i, 2:4, 2:4], scales=[2],\n",
    "                 ec='k', fc='gray', alpha=0.2, ax=ax4)\n",
    "\n",
    "titles = [\"Standard Stars\", \"Single Epoch\",\n",
    "          \"Extreme Deconvolution\\n  resampling\",\n",
    "          \"Extreme Deconvolution\\n  cluster locations\"]\n",
    "ax = [ax1, ax2, ax3, ax4]\n",
    "\n",
    "for i in range(4):\n",
    "    ax[i].set_xlim(-0.6, 1.8)\n",
    "    ax[i].set_ylim(-0.6, 1.8)\n",
    "\n",
    "    ax[i].xaxis.set_major_locator(plt.MultipleLocator(0.5))\n",
    "    ax[i].yaxis.set_major_locator(plt.MultipleLocator(0.5))\n",
    "\n",
    "    ax[i].text(0.05, 0.95, titles[i],\n",
    "               ha='left', va='top', transform=ax[i].transAxes)\n",
    "\n",
    "    if i in (0, 1):\n",
    "        ax[i].xaxis.set_major_formatter(plt.NullFormatter())\n",
    "    else:\n",
    "        ax[i].set_xlabel('$g-r$')\n",
    "\n",
    "    if i in (1, 3):\n",
    "        ax[i].yaxis.set_major_formatter(plt.NullFormatter())\n",
    "    else:\n",
    "        ax[i].set_ylabel('$r-i$')\n",
    "\n",
    "#------------------------------------------------------------\n",
    "# Second figure: the width of the locus\n",
    "fig = plt.figure(figsize=(10, 8))\n",
    "ax = fig.add_subplot(111)\n",
    "\n",
    "labels = ['single epoch', 'standard stars', 'XD resampled']\n",
    "linestyles = ['solid', 'dashed', 'dotted']\n",
    "for data, label, ls in zip((X, Y, X_sample), labels, linestyles):\n",
    "    g = data[:, 0]\n",
    "    gr = data[:, 2]\n",
    "    ri = data[:, 3]\n",
    "\n",
    "    r = g - gr\n",
    "    i = r - ri\n",
    "\n",
    "    mask = (gr > 0.3) & (gr < 1.0)\n",
    "    g = g[mask]\n",
    "    r = r[mask]\n",
    "    i = i[mask]\n",
    "\n",
    "    w = -0.227 * g + 0.792 * r - 0.567 * i + 0.05\n",
    "\n",
    "    sigma = sigmaG(w)\n",
    "\n",
    "    ax.hist(w, bins=np.linspace(-0.08, 0.08, 100), linestyle=ls,\n",
    "            histtype='step', label=label + '\\n\\t' + r'$\\sigma_G=%.3f$' % sigma,\n",
    "            density=True)\n",
    "\n",
    "ax.legend(loc=2)\n",
    "ax.text(0.95, 0.95, '$w = -0.227g + 0.792r$\\n$ - 0.567i + 0.05$',\n",
    "        transform=ax.transAxes, ha='right', va='top')\n",
    "\n",
    "ax.set_xlim(-0.07, 0.07)\n",
    "ax.set_ylim(0, 55)\n",
    "\n",
    "ax.set_xlabel('$w$')\n",
    "ax.set_ylabel('$N(w)$')\n",
    "\n",
    "plt.show()"
   ]
  },
  {
   "cell_type": "markdown",
   "metadata": {
    "slideshow": {
     "slide_type": "slide"
    }
   },
   "source": [
    "## Anomaly Detection\n",
    "\n",
    "ML algorithms suffer in terms of their performance when outliers are not taken care of. \n",
    "\n",
    "Bad ideas include \n",
    "- dropping them from your sample\n",
    "- leaving them in, using ML methods, and then ignoring the impact of the outliers\n",
    "\n",
    "\n",
    "Imagine if a bank did either of these for fradulent credit card transactions..."
   ]
  },
  {
   "cell_type": "markdown",
   "metadata": {
    "slideshow": {
     "slide_type": "slide"
    }
   },
   "source": [
    "One efficient way of performing outlier detection in high-dimensional datasets is to use random forests\n",
    "\n",
    "Isolation forests ‘isolate’ observations by constructing decesion trees:\n",
    "- randomly selecting a feature and then \n",
    "- randomly selecting a split value between the maximum and minimum values of the selected feature\n",
    "\n",
    "Number of splittings required to isolate a sample = path length from the root node to the terminating node\n",
    "\n",
    "Path length, averaged over a forest of such random trees, is a measure of normality and our decision function.\n",
    "\n",
    "Random partitioning produces noticeable shorter paths for anomalies. \n",
    "\n",
    "When a forest of random trees collectively produce shorter path lengths for particular samples, they are highly likely to be anomalies - i.e. **linkage-based**\n",
    "\n",
    "<img src=\"figures/IsolationForest1.png\">"
   ]
  },
  {
   "cell_type": "markdown",
   "metadata": {
    "slideshow": {
     "slide_type": "subslide"
    }
   },
   "source": [
    "Random forest are **supervised** so why are they showing up here in **unsupervised learning**?\n",
    "- there's only two labels (outlier/not outlier)\n",
    "- but you still have to condition the algorithm on a training set (even if it doesn't have labels) \n",
    "\n",
    "\n",
    "## Local Outlier Fraction:\n",
    "\n",
    "LOF uses density-based outlier detection to identify local outliers\n",
    "- points that are outliers with respect to their local neighborhood, rather than with respect to the global distribution. \n",
    "\n",
    "A point is labeled as an outlier if the density around that point is significantly different from the density around its neighbors.\n",
    "  \n",
    "The higher the LOF value for an observation, the more anomalous the observation.\n",
    "\n",
    "Useful because can identify a point that’s an outlier relative to a nearby cluster of points (a local outlier) even if that whole region is an outlying region in the global space of data points.\n",
    "    - Application SNIa have subclasses that are odd, and even amongst those sub-classes there are real oddballs - these are good to identify because they tell us the most about the physics of the explosion.\n",
    "\n",
    "\n",
    "<img src=\"figures/LOF.png\">"
   ]
  },
  {
   "cell_type": "markdown",
   "metadata": {
    "slideshow": {
     "slide_type": "slide"
    }
   },
   "source": [
    "## Summary of methods\n",
    "\n",
    "|Method          |Accuracy|Interpretability|Simplicity|Speed|\n",
    "|----------------|--------|----------------|----------|-----|\n",
    "|K-nearest Neighbor| H | H | H | M |\n",
    "|Kernel Density Estimation| H | H | H | H |\n",
    "|Hierarchical Clustering| H | L | L | L |\n",
    "||||||\n",
    "|K-Means| L | M | H | M |\n",
    "|Max-radius minimization| L | M | M | M |\n",
    "|Mean shift| M | H | H | M |\n",
    "|Gaussian Mixture Models| H | M | M | M |\n",
    "|Extreme Deconvolution| H | H | M | M |"
   ]
  },
  {
   "cell_type": "markdown",
   "metadata": {
    "slideshow": {
     "slide_type": "subslide"
    }
   },
   "source": [
    "## Unsupervised ML \"wisdom\"\n",
    "\n",
    "\n",
    "* Do you have labels that you trust?\n",
    "    - Why are you using unsupervised methods at all then\n",
    "* Do you have an a priori reason for there to be $k$ separate groups?\n",
    "    - k-Means/GMM\n",
    "* Are your observations really noise and wiping out structure?\n",
    "    - Extreme deconvolution\n",
    "\n",
    "* Do you really need clusters or are you trying to get a sense of the underlying density distribution\n",
    "    - KDEs\n",
    "* Do you need clustering but your clusters are defined by an overdensity against a background\n",
    "    - DBSCAN/OPTICS\n",
    "* Does your sample have some natural hierarchy\n",
    "    - Hierarchical clustering\n",
    "    \n",
    "* Do you care about the stuff that isn't part of some underlying distribution model\n",
    "    - IsolationForest/LOF\n",
    "\n",
    "There is no one right answer.\n",
    "\n",
    "You are looking for structure in your data with unsupervised methods, so the right answer is to **look at your data** - i.e. try a few different things and refine"
   ]
  },
  {
   "cell_type": "markdown",
   "metadata": {
    "slideshow": {
     "slide_type": "slide"
    }
   },
   "source": [
    "## In class-exercise:\n",
    "\n",
    "Train an isolation forest and LOF on a random subset of the color-mag data. \n",
    "\n",
    "(For isolation forest, you can use `sklearn.model_selection.train_test_split` to split it into a training set and test set)."
   ]
  },
  {
   "cell_type": "code",
   "execution_count": 43,
   "metadata": {
    "slideshow": {
     "slide_type": "subslide"
    }
   },
   "outputs": [],
   "source": [
    "## YOUR CODE HERE\n",
    "from sklearn.neighbors import LocalOutlierFactor\n",
    "from sklearn.ensemble import IsolationForest\n",
    "from sklearn.model_selection import train_test_split"
   ]
  },
  {
   "cell_type": "code",
   "execution_count": null,
   "metadata": {
    "slideshow": {
     "slide_type": "subslide"
    }
   },
   "outputs": [],
   "source": [
    "Xtrain, Xtest = train_test_split(...\n",
    "clf = IsolationForest(...\n",
    "clf.fit(...\n",
    "y_pred_train = clf.predict(...\n",
    "y_pred_test = clf.predict(...\n",
    "\n",
    "#outliers are -1, inliers are 1\n",
    "y_pred_train[y_pred_train == -1] += 1\n",
    "y_pred_test[y_pred_test == -1] += 1\n",
    "\n",
    "color_train = [f'C{i}' for i in y_pred_train]\n",
    "plt.scatter(Xtrain[:,0], Xtrain[:,1], color=color_train, marker='.', label='Training set')\n",
    "color_test = [f'C{i}' for i in y_pred_test]\n",
    "plt.scatter(Xtest[:,0], Xtest[:,1], color=color_test, marker='s', label='Test set')\n",
    "\n",
    "ax = plt.gca()\n",
    "ax.legend(fontsize='x-large', loc='lower left')\n",
    "\n",
    "ax.set_xlabel('Color', fontsize='xx-large')\n",
    "ax.set_ylabel('Mag', fontsize='xx-large')\n",
    "ax.set_title('Isolation Forest', fontsize='xx-large');"
   ]
  },
  {
   "cell_type": "code",
   "execution_count": null,
   "metadata": {
    "slideshow": {
     "slide_type": "subslide"
    }
   },
   "outputs": [],
   "source": [
    "clf = LocalOutlierFactor(...\n",
    "labels = clf.fit_predict(...\n",
    "\n",
    "\n",
    "#outliers are -1, inliers are 1\n",
    "labels[labels == -1] += 1\n",
    "\n",
    "\n",
    "color = [f'C{i}' for i in labels]\n",
    "plt.scatter(Xt[:,0], Xt[:,1], color=color, marker='o')\n",
    "\n",
    "ax = plt.gca()\n",
    "\n",
    "ax.set_xlabel('Color', fontsize='xx-large')\n",
    "ax.set_ylabel('Mag', fontsize='xx-large')\n",
    "ax.set_title('Local Outlier Fraction', fontsize='xx-large');"
   ]
  }
 ],
 "metadata": {
  "anaconda-cloud": {},
  "celltoolbar": "Slideshow",
  "kernelspec": {
   "display_name": "Python 3",
   "language": "python",
   "name": "python3"
  },
  "language_info": {
   "codemirror_mode": {
    "name": "ipython",
    "version": 3
   },
   "file_extension": ".py",
   "mimetype": "text/x-python",
   "name": "python",
   "nbconvert_exporter": "python",
   "pygments_lexer": "ipython3",
   "version": "3.7.9"
  },
  "livereveal": {
   "scroll": true,
   "start_slideshow_at": "selected"
  }
 },
 "nbformat": 4,
 "nbformat_minor": 1
}
