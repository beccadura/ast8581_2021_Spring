{
 "cells": [
  {
   "cell_type": "markdown",
   "metadata": {},
   "source": [
    "# Numpy Reference Guide\n",
    "*A guide of useful methods which I've discovered over time, and a presentation of some standard ones; compiled by Andrea Walker February 2021.*"
   ]
  },
  {
   "cell_type": "markdown",
   "metadata": {},
   "source": [
    "# Basics\n",
    "\n",
    "## Creating Arrays\n",
    "\n",
    "### np.array(), .ones(), .zeros(), .empty()"
   ]
  },
  {
   "cell_type": "code",
   "execution_count": 1,
   "metadata": {},
   "outputs": [],
   "source": [
    "'''\n",
    "np.array([3,6,9]) # creating a general array from a list\n",
    "np.ones()         # creating an array of ones; pass an integer(length of 1D array) or tuple (shape of N-D array)\n",
    "np.zeros()        # same syntax as ones\n",
    "np.empty()        # same syntax as ones      \n",
    "'''\n",
    "import numpy as np"
   ]
  },
  {
   "cell_type": "markdown",
   "metadata": {},
   "source": [
    "### numpy.full(shape, fill_value, dtype=None, order='C', *, like=None)\n",
    "> Return a new array of given shape and type, filled with fill_value.\\\n",
    "> https://numpy.org/doc/stable/reference/generated/numpy.full.html\n",
    "\n",
    "#### *This is useful for creating an array of booleans*"
   ]
  },
  {
   "cell_type": "code",
   "execution_count": 2,
   "metadata": {},
   "outputs": [
    {
     "data": {
      "text/plain": [
       "array([[ True,  True,  True,  True],\n",
       "       [ True,  True,  True,  True],\n",
       "       [ True,  True,  True,  True]])"
      ]
     },
     "execution_count": 2,
     "metadata": {},
     "output_type": "execute_result"
    }
   ],
   "source": [
    "np.full((3,4),True)"
   ]
  },
  {
   "cell_type": "markdown",
   "metadata": {},
   "source": [
    "## Generating Series of numbers\n",
    "A general comment on the two main numpy functions generating series of numbers : arange and linspace (if this is too big of a block of text, jump down to the tl;dr).\n",
    "\n",
    "### np.linspace(start, stop, num=50)\n",
    ">Linspace returns an array of  num  elements evenly spaced over the closed interval [start, stop].\n",
    " More verbosely, linspace requires two arguments (start and stop), and returns an array of length num  (default is 50) containing evenly spaced numbers beginning with start,  up to and including stop.\n",
    " > https://numpy.org/doc/stable/reference/generated/numpy.linspace.html\n",
    "\n",
    "### np.arange([start, ]stop, [step, ])\n",
    ">Arange returns an array of of evenly spaced elements over the half-open interval [start,stop). The number of elements is determined by step, which defaults to 1. \n",
    "More verbosely, arange requires one argument (stop), and returns an array containing evenly spaced numbers beginning with start (defaults to 0), at intervals of step (default of 1), up to but not including stop.\n",
    "> https://numpy.org/doc/stable/reference/generated/numpy.arange.html\n",
    "\n",
    "TL;DR : If you want to create an array of evenly spaced numbers, use linspace if you care about the number of points  in the array. Otherwise, use arange  if you are interested in the distance between the points in the array."
   ]
  },
  {
   "cell_type": "code",
   "execution_count": 3,
   "metadata": {},
   "outputs": [
    {
     "name": "stdout",
     "output_type": "stream",
     "text": [
      "[ 1.          1.47368421  1.94736842  2.42105263  2.89473684  3.36842105\n",
      "  3.84210526  4.31578947  4.78947368  5.26315789  5.73684211  6.21052632\n",
      "  6.68421053  7.15789474  7.63157895  8.10526316  8.57894737  9.05263158\n",
      "  9.52631579 10.        ] \n",
      " [1.  2.5 4.  5.5 7.  8.5]\n"
     ]
    }
   ],
   "source": [
    "lnspace = np.linspace(1,10,20)\n",
    "arng = np.arange(1,10,1.5)\n",
    "print(lnspace,'\\n',arng)"
   ]
  },
  {
   "cell_type": "markdown",
   "metadata": {},
   "source": [
    "## Maximum and Minimum values, indices\n",
    "\n",
    "**Note: for N-D arrays (N>1), all of the following flatten the input array unless an axis is specified.**\n",
    "\n",
    "### numpy.amax(a, axis=None, out=None, keepdims=<no value>, initial=<no value>, where=<no value>)\n",
    ">Return the maximum of an array or maximum along an axis. \\\n",
    ">https://numpy.org/doc/stable/reference/generated/numpy.amax.html\n",
    "    \n",
    "### numpy.argmax(a, axis=None, out=None)\n",
    ">Returns the indices of the maximum values along an axis. \\\n",
    "> https://numpy.org/doc/stable/reference/generated/numpy.argmax.html\n",
    "    \n",
    "### numpy.amin(a, axis=None, out=None, keepdims=<no value>, initial=<no value>, where=<no value>)\n",
    ">Return the minimum of an array or minimum along an axis.\\\n",
    ">https://numpy.org/doc/stable/reference/generated/numpy.amin.html\n",
    "    \n",
    "### numpy.argmin(a, axis=None, out=None)\n",
    ">Returns the indices of the minimum values along an axis. \\\n",
    ">https://numpy.org/doc/stable/reference/generated/numpy.argmin.html"
   ]
  },
  {
   "cell_type": "markdown",
   "metadata": {},
   "source": [
    "## Returning a subset of an array\n",
    "\n",
    "### Based on a condition \n",
    "\n",
    "#### numpy.compress(condition, a, axis=None, out=None)[source]\n",
    "> Return selected slices of an array along given axis.\n",
    "> When working along a given axis, a slice along that axis is returned in output for each index where condition evaluates to True. When working on a 1-D array, compress is equivalent to extract.\n",
    "> https://numpy.org/doc/stable/reference/generated/numpy.compress.html"
   ]
  },
  {
   "cell_type": "code",
   "execution_count": 4,
   "metadata": {},
   "outputs": [
    {
     "name": "stdout",
     "output_type": "stream",
     "text": [
      "Mask: [ True  True False  True  True] \n",
      " Original array: [0 1 2 3 4] \n",
      " Masked array: [0 1 3 4]\n"
     ]
    }
   ],
   "source": [
    "#(one example: mask)\n",
    "mask = np.full(5,True)\n",
    "mask[2]=False\n",
    "arr = np.arange(5)\n",
    "new_arr = np.compress(mask,arr)\n",
    "print(\"Mask: {} \\n Original array: {} \\n Masked array: {}\".format(mask,arr,new_arr))"
   ]
  },
  {
   "cell_type": "code",
   "execution_count": 5,
   "metadata": {},
   "outputs": [
    {
     "name": "stdout",
     "output_type": "stream",
     "text": [
      "[0 1 2 3 4 5 6 7 8 9] \n",
      " [6 7 8 9]\n"
     ]
    }
   ],
   "source": [
    "#compress based on condition\n",
    "arr = np.arange(10)\n",
    "new_arr = np.compress(arr>5,arr)\n",
    "print(arr,'\\n',new_arr)"
   ]
  },
  {
   "cell_type": "markdown",
   "metadata": {},
   "source": [
    "### numpy.take(a, indices, axis=None, out=None, mode='raise')[source]\n",
    ">Take elements from an array along an axis. \\\n",
    ">When axis is not None, this function does the same thing as “fancy” indexing (indexing arrays using arrays); however, it can be easier to use if you need elements along a given axis. A call such as np.take(arr, indices, axis=3) is equivalent to arr[:,:,:,indices,...]. \\\n",
    "> Explained without fancy indexing, this is equivalent to the following use of ndindex, which sets each of ii, jj, and kk to a tuple of indices:\n",
    "> https://numpy.org/doc/stable/reference/generated/numpy.take.html"
   ]
  },
  {
   "cell_type": "code",
   "execution_count": 6,
   "metadata": {},
   "outputs": [
    {
     "name": "stdout",
     "output_type": "stream",
     "text": [
      "[ 0  2  4  6  8 10 12 14 16 18]\n",
      "[       1        2        4        8       16       32       64      128\n",
      "      256      512     1024     2048     4096     8192    16384    32768\n",
      "    65536   131072   262144   524288  1048576  2097152  4194304  8388608\n",
      " 16777216]\n",
      "[     1      4     16     64    256   1024   4096  16384  65536 262144]\n"
     ]
    }
   ],
   "source": [
    "ind = np.arange(0,20,step=2)\n",
    "x_sq = np.array([2**x for x in range(25)])\n",
    "\n",
    "print(ind)\n",
    "print(x_sq)\n",
    "print(np.take(x_sq,ind))"
   ]
  },
  {
   "cell_type": "markdown",
   "metadata": {},
   "source": [
    "## Conditionally populate\n",
    "\n",
    "### numpy.where(condition[, x, y])\n",
    ">Return elements chosen from x or y depending on condition.\\\n",
    ">https://numpy.org/doc/stable/reference/generated/numpy.where.html"
   ]
  },
  {
   "cell_type": "code",
   "execution_count": 7,
   "metadata": {},
   "outputs": [
    {
     "name": "stdout",
     "output_type": "stream",
     "text": [
      "[-0.23138199  0.83137214 -0.52872266  0.85988448  1.05366627 -1.50077147\n",
      " -0.02075735 -2.16167276  1.45940071  0.13812204] \n",
      " [0.         0.83137214 0.         0.85988448 1.05366627 0.\n",
      " 0.         0.         1.45940071 0.13812204]\n"
     ]
    }
   ],
   "source": [
    "x = np.random.normal(size=10)\n",
    "x_relu = np.where(x>0,x,0)\n",
    "print(x,'\\n',x_relu)"
   ]
  },
  {
   "cell_type": "markdown",
   "metadata": {},
   "source": [
    "## Comparing two arrays\n",
    "\n",
    "### numpy.isclose(a, b, rtol=1e-05, atol=1e-08, equal_nan=False)\n",
    ">Returns a boolean array where two arrays are element-wise equal within a tolerance. \\\n",
    "> The tolerance values are positive, typically very small numbers. The relative difference (rtol * abs(b)) and the absolute difference atol are added together to compare against the absolute difference between a and b.\n",
    "> https://numpy.org/doc/stable/reference/generated/numpy.isclose.html"
   ]
  },
  {
   "cell_type": "code",
   "execution_count": 8,
   "metadata": {},
   "outputs": [
    {
     "name": "stdout",
     "output_type": "stream",
     "text": [
      "[ True  True  True  True  True]\n"
     ]
    }
   ],
   "source": [
    "arr1 = np.ones(5)\n",
    "arr2 = np.ones(5)\n",
    "close = np.isclose(arr1,arr2,atol=1e-7)\n",
    "print(close)"
   ]
  },
  {
   "cell_type": "code",
   "execution_count": 9,
   "metadata": {},
   "outputs": [
    {
     "name": "stdout",
     "output_type": "stream",
     "text": [
      "[ True  True  True  True  True]\n",
      "[False False False False False]\n"
     ]
    }
   ],
   "source": [
    "arr1 = 0.5*np.ones(5)\n",
    "arr2 = np.ones(5)\n",
    "print(np.isclose(arr1,arr2,atol=0.6))\n",
    "print(np.isclose(arr1,arr2,atol=0.4))"
   ]
  },
  {
   "cell_type": "markdown",
   "metadata": {},
   "source": [
    "## Boolean Evaluation\n",
    "\n",
    "### numpy.all(a, axis=None, out=None, keepdims=<no value>, *, where=<no value>)\n",
    ">Test whether all array elements along a given axis evaluate to True.\\\n",
    ">https://numpy.org/doc/stable/reference/generated/numpy.all.html"
   ]
  },
  {
   "cell_type": "code",
   "execution_count": 10,
   "metadata": {},
   "outputs": [
    {
     "name": "stdout",
     "output_type": "stream",
     "text": [
      "False\n",
      "True\n"
     ]
    }
   ],
   "source": [
    "temp = [True,True,False]\n",
    "print(np.all(temp))\n",
    "print(np.all(temp[0:2]))"
   ]
  },
  {
   "cell_type": "markdown",
   "metadata": {},
   "source": [
    "### numpy.any(a, axis=None, out=None, keepdims=<no value>, *, where=<no value>)\n",
    ">Test whether any array element along a given axis evaluates to True.\n",
    "> Returns single boolean unless axis is not None\n",
    ">https://numpy.org/doc/stable/reference/generated/numpy.any.html"
   ]
  },
  {
   "cell_type": "code",
   "execution_count": 11,
   "metadata": {},
   "outputs": [
    {
     "name": "stdout",
     "output_type": "stream",
     "text": [
      "True\n",
      "False\n"
     ]
    }
   ],
   "source": [
    "temp = [False,False,True]\n",
    "print(np.any(temp))\n",
    "print(np.any(temp[0:2]))"
   ]
  },
  {
   "cell_type": "markdown",
   "metadata": {},
   "source": [
    "# Appendix: non-Numpy tips and tricks:\n",
    "\n",
    "### String number formatting: \n",
    "https://mkaz.blog/code/python-string-format-cookbook/"
   ]
  },
  {
   "cell_type": "code",
   "execution_count": null,
   "metadata": {},
   "outputs": [],
   "source": []
  }
 ],
 "metadata": {
  "kernelspec": {
   "display_name": "astro",
   "language": "python",
   "name": "astro"
  },
  "language_info": {
   "codemirror_mode": {
    "name": "ipython",
    "version": 3
   },
   "file_extension": ".py",
   "mimetype": "text/x-python",
   "name": "python",
   "nbconvert_exporter": "python",
   "pygments_lexer": "ipython3",
   "version": "3.8.5"
  }
 },
 "nbformat": 4,
 "nbformat_minor": 4
}
