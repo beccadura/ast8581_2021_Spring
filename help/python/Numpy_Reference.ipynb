{
 "cells": [
  {
   "cell_type": "markdown",
   "metadata": {},
   "source": [
    "# Numpy Reference Guide\n",
    "*A guide of useful methods which I've discovered over time, and a presentation of some standard ones; compiled by Andrea Walker February 2021.*"
   ]
  },
  {
   "cell_type": "markdown",
   "metadata": {},
   "source": [
    "# Basics\n",
    "\n",
    "## Creating Arrays and Matrices\n",
    "\n",
    "### np.array(), .ones(), .zeros(), .empty()"
   ]
  },
  {
   "cell_type": "code",
   "execution_count": 2,
   "metadata": {},
   "outputs": [],
   "source": [
    "'''\n",
    "np.array([3,6,9]) # creating a general array from a list\n",
    "np.ones()         # creating an array of ones; pass an integer(length of 1D array) or tuple (shape of N-D array)\n",
    "np.zeros()        # same syntax as ones\n",
    "np.empty()        # same syntax as ones      \n",
    "'''\n",
    "import numpy as np"
   ]
  },
  {
   "cell_type": "markdown",
   "metadata": {},
   "source": [
    "### numpy.full(shape, fill_value, dtype=None, order='C', *, like=None)\n",
    "> Return a new array of given shape and type, filled with fill_value.\\\n",
    "> https://numpy.org/doc/stable/reference/generated/numpy.full.html\n",
    "\n",
    "#### *This is useful for creating an array of booleans*"
   ]
  },
  {
   "cell_type": "code",
   "execution_count": 3,
   "metadata": {},
   "outputs": [
    {
     "data": {
      "text/plain": [
       "array([[ True,  True,  True,  True],\n",
       "       [ True,  True,  True,  True],\n",
       "       [ True,  True,  True,  True]])"
      ]
     },
     "execution_count": 3,
     "metadata": {},
     "output_type": "execute_result"
    }
   ],
   "source": [
    "np.full((3,4),True)"
   ]
  },
  {
   "cell_type": "markdown",
   "metadata": {},
   "source": [
    "## Generating Series of numbers\n",
    "A general comment on the two main numpy functions generating series of numbers : arange and linspace (if this is too big of a block of text, jump down to the tl;dr).\n",
    "\n",
    "### np.linspace(start, stop, num=50)\n",
    ">Linspace returns an array of  num  elements evenly spaced over the closed interval [start, stop].\n",
    " More verbosely, linspace requires two arguments (start and stop), and returns an array of length num  (default is 50) containing evenly spaced numbers beginning with start,  up to and including stop.\n",
    " > https://numpy.org/doc/stable/reference/generated/numpy.linspace.html\n",
    "\n",
    "### np.arange([start, ]stop, [step, ])\n",
    ">Arange returns an array of of evenly spaced elements over the half-open interval [start,stop). The number of elements is determined by step, which defaults to 1. \n",
    "More verbosely, arange requires one argument (stop), and returns an array containing evenly spaced numbers beginning with start (defaults to 0), at intervals of step (default of 1), up to but not including stop.\n",
    "> https://numpy.org/doc/stable/reference/generated/numpy.arange.html\n",
    "\n",
    "TL;DR : If you want to create an array of evenly spaced numbers, use linspace if you care about the number of points  in the array. Otherwise, use arange  if you are interested in the distance between the points in the array."
   ]
  },
  {
   "cell_type": "code",
   "execution_count": 4,
   "metadata": {},
   "outputs": [
    {
     "name": "stdout",
     "output_type": "stream",
     "text": [
      "[ 1.          1.47368421  1.94736842  2.42105263  2.89473684  3.36842105\n",
      "  3.84210526  4.31578947  4.78947368  5.26315789  5.73684211  6.21052632\n",
      "  6.68421053  7.15789474  7.63157895  8.10526316  8.57894737  9.05263158\n",
      "  9.52631579 10.        ] \n",
      " [1.  2.5 4.  5.5 7.  8.5]\n"
     ]
    }
   ],
   "source": [
    "lnspace = np.linspace(1,10,20)\n",
    "arng = np.arange(1,10,1.5)\n",
    "print(lnspace,'\\n',arng)"
   ]
  },
  {
   "cell_type": "markdown",
   "metadata": {},
   "source": [
    "## Matrices \n",
    "### numpy.identity(n, dtype=None, *, like=None)[source]¶\n",
    ">Return the identity array. \\\n",
    ">The identity array is a square array with ones on the main diagonal.\\\n",
    ">Parameters: n (int) :=Number of rows (and columns) in n x n output.\n",
    "\n",
    "> https://numpy.org/doc/stable/reference/generated/numpy.identity.html"
   ]
  },
  {
   "cell_type": "code",
   "execution_count": 5,
   "metadata": {},
   "outputs": [
    {
     "data": {
      "text/plain": [
       "array([[1., 0., 0.],\n",
       "       [0., 1., 0.],\n",
       "       [0., 0., 1.]])"
      ]
     },
     "execution_count": 5,
     "metadata": {},
     "output_type": "execute_result"
    }
   ],
   "source": [
    "np.identity(3)"
   ]
  },
  {
   "cell_type": "markdown",
   "metadata": {},
   "source": [
    "### numpy.eye(N, M=None, k=0, dtype=<class 'float'>, order='C', *, like=None)\n",
    "> Return a 2-D array with ones on the diagonal and zeros elsewhere.\\\n",
    "> Parameters: N (int) :=Number of rows in the output.\\\n",
    "> M (int), optional := Number of columns in the output. If None, defaults to N.\n",
    "\n",
    "> https://numpy.org/doc/stable/reference/generated/numpy.eye.html"
   ]
  },
  {
   "cell_type": "code",
   "execution_count": 6,
   "metadata": {},
   "outputs": [
    {
     "data": {
      "text/plain": [
       "array([[1., 0., 0., 0.],\n",
       "       [0., 1., 0., 0.],\n",
       "       [0., 0., 1., 0.]])"
      ]
     },
     "execution_count": 6,
     "metadata": {},
     "output_type": "execute_result"
    }
   ],
   "source": [
    "np.eye(3,4)"
   ]
  },
  {
   "cell_type": "markdown",
   "metadata": {},
   "source": [
    "### numpy.atleast_2d(*arys)[source]¶\n",
    "> View inputs as arrays with at least two dimensions.\\\n",
    "> Parameters: \\\n",
    "> arys1, arys2, …array_like\n",
    "> One or more array-like sequences. Non-array inputs are converted to arrays. Arrays that already have two or more dimensions are preserved.\\\n",
    ">Returns \\\n",
    ">res, res2, …ndarray \\\n",
    ">An array, or list of arrays, each with a.ndim >= 2. Copies are avoided where possible, and views with two or more dimensions are returned.\n",
    "\n",
    ">https://numpy.org/doc/stable/reference/generated/numpy.atleast_2d.html"
   ]
  },
  {
   "cell_type": "code",
   "execution_count": 7,
   "metadata": {},
   "outputs": [
    {
     "data": {
      "text/plain": [
       "array([[0, 1, 2, 3, 4]])"
      ]
     },
     "execution_count": 7,
     "metadata": {},
     "output_type": "execute_result"
    }
   ],
   "source": [
    "x= np.arange(5)\n",
    "np.atleast_2d(x)"
   ]
  },
  {
   "cell_type": "markdown",
   "metadata": {},
   "source": [
    "# Operations on Arrays and Matrices"
   ]
  },
  {
   "cell_type": "markdown",
   "metadata": {},
   "source": [
    "## Maximum and Minimum values, indices\n",
    "\n",
    "**Note: for N-D arrays (N>1), all of the following flatten the input array unless an axis is specified.**\n",
    "\n",
    "### numpy.amax(a, axis=None, out=None, keepdims=<no value>, initial=<no value>, where=<no value>)\n",
    ">Return the maximum of an array or maximum along an axis. \\\n",
    ">https://numpy.org/doc/stable/reference/generated/numpy.amax.html\n",
    "    \n",
    "### numpy.argmax(a, axis=None, out=None)\n",
    ">Returns the indices of the maximum values along an axis. \\\n",
    "> https://numpy.org/doc/stable/reference/generated/numpy.argmax.html\n",
    "    \n",
    "### numpy.amin(a, axis=None, out=None, keepdims=<no value>, initial=<no value>, where=<no value>)\n",
    ">Return the minimum of an array or minimum along an axis.\\\n",
    ">https://numpy.org/doc/stable/reference/generated/numpy.amin.html\n",
    "    \n",
    "### numpy.argmin(a, axis=None, out=None)\n",
    ">Returns the indices of the minimum values along an axis. \\\n",
    ">https://numpy.org/doc/stable/reference/generated/numpy.argmin.html"
   ]
  },
  {
   "cell_type": "markdown",
   "metadata": {},
   "source": [
    "## Rounding \n",
    "\n",
    "### numpy.rint(x, /, out=None, *, where=True, casting='same_kind', order='K', dtype=None, subok=True[, signature, extobj]) = <ufunc 'rint'>\n",
    ">Round elements of the array to the nearest integer. \\\n",
    ">Parameters: x (array_like,Input array.)\\\n",
    ">https://numpy.org/doc/stable/reference/generated/numpy.rint.html\n",
    "\n"
   ]
  },
  {
   "cell_type": "code",
   "execution_count": 8,
   "metadata": {},
   "outputs": [
    {
     "data": {
      "text/plain": [
       "array([1., 4., 6.])"
      ]
     },
     "execution_count": 8,
     "metadata": {},
     "output_type": "execute_result"
    }
   ],
   "source": [
    "x = np.array([1.2,3.5,5.7])\n",
    "np.rint(x)"
   ]
  },
  {
   "cell_type": "markdown",
   "metadata": {},
   "source": [
    "## Multiply / Add elements (along axis, or all)\n",
    "\n",
    "### numpy.sum(a, axis=None, dtype=None, out=None, keepdims=<no value>, initial=<no value>, where=<no value>)\n",
    "> Sum of array elements over a given axis. \\\n",
    ">Parameters a := (array_like, Elements to sum.) \\\n",
    "> axis:=None or int or tuple of ints, optional;\n",
    "Axis or axes along which a sum is performed. The default, axis=None, will sum all of the elements of the input array. If axis is negative it counts from the last to the first axis. \\\n",
    ">If axis is a tuple of ints, a sum is performed on all of the axes specified in the tuple instead of a single axis or all the axes as before.\n",
    "> https://numpy.org/doc/stable/reference/generated/numpy.sum.html\n",
    "    \n",
    "\n",
    "### numpy.prod(a, axis=None, dtype=None, out=None, keepdims=<no value>, initial=<no value>, where=<no value>)[source]\n",
    "> Return the product of array elements over a given axis. \\\n",
    "> Parameters := a (array_like) Input data. \\\n",
    "> := axis (None or int or tuple of ints, optional), Axis or axes along which a product is performed. The default, axis=None, will calculate the product of all the elements in the input array. If axis is negative it counts from the last to the first axis. \\\n",
    ">If axis is a tuple of ints, a product is performed on all of the axes specified in the tuple instead of a single axis or all the axes as before.\n",
    "> https://numpy.org/doc/stable/reference/generated/numpy.prod.html"
   ]
  },
  {
   "cell_type": "code",
   "execution_count": 9,
   "metadata": {},
   "outputs": [
    {
     "name": "stdout",
     "output_type": "stream",
     "text": [
      "10\n",
      "16\n"
     ]
    }
   ],
   "source": [
    "print(np.sum([1,2,3,4]))\n",
    "print(np.prod([2,2,2,2]))"
   ]
  },
  {
   "cell_type": "markdown",
   "metadata": {},
   "source": [
    "## Sorting\n",
    "\n",
    "### numpy.argsort(a, axis=-1, kind=None, order=None)\n",
    "> Returns the indices that would sort an array.\\\n",
    "> Perform an indirect sort along the given axis using the algorithm specified by the kind keyword. It returns an array of indices of the same shape as a that index data along the given axis in sorted order.\n",
    "\n",
    ">https://numpy.org/doc/stable/reference/generated/numpy.argsort.html"
   ]
  },
  {
   "cell_type": "code",
   "execution_count": 10,
   "metadata": {},
   "outputs": [
    {
     "data": {
      "text/plain": [
       "array([2, 4, 0, 1, 3])"
      ]
     },
     "execution_count": 10,
     "metadata": {},
     "output_type": "execute_result"
    }
   ],
   "source": [
    "x = np.array([3,4,1,5,2])\n",
    "np.argsort(x)"
   ]
  },
  {
   "cell_type": "markdown",
   "metadata": {},
   "source": [
    "## Histogramming / binning\n",
    "\n",
    "### numpy.histogram(a, bins=10, range=None, normed=None, weights=None, density=None)\n",
    "> Compute the histogram of a set of data. \\\n",
    "> Parameters  a := array_like, Input data. The histogram is computed over the flattened array. \\\n",
    "> bins := int or sequence of scalars or str, optional\n",
    "> https://numpy.org/doc/stable/reference/generated/numpy.histogram.html\n",
    "\n",
    "### numpy.histogram2d(x, y, bins=10, range=None, normed=None, weights=None, density=None)[source]\n",
    ">Compute the bi-dimensional histogram of two data samples. \\\n",
    ">Parameters: x := array_like, shape (N,)\n",
    "An array containing the x coordinates of the points to be histogrammed. \\\n",
    ">y, array_like, shape (N,) :=\n",
    "An array containing the y coordinates of the points to be histogrammed. \\\n",
    "> bins := int or array_like or [int, int] or [array, array], optional\n",
    "The bin specification:\n",
    "> * If int, the number of bins for the two dimensions (nx=ny=bins).\n",
    "> * If array_like, the bin edges for the two dimensions (x_edges=y_edges=bins).\n",
    "> * If [int, int], the number of bins in each dimension (nx, ny = bins).\n",
    "> * If [array, array], the bin edges in each dimension (x_edges, y_edges = bins).\n",
    "> * A combination [int, array] or [array, int], where int is the number of bins and array is the bin edges.\n",
    "> https://numpy.org/doc/stable/reference/generated/numpy.histogram2d.html"
   ]
  },
  {
   "cell_type": "markdown",
   "metadata": {},
   "source": [
    "## Returning a subset of an array\n",
    "\n",
    "### Based on a condition \n"
   ]
  },
  {
   "cell_type": "markdown",
   "metadata": {},
   "source": [
    "#### Using conditional filters like in Pandas:\n",
    ">Source, Stack overflow \\\n",
    "> https://stackoverflow.com/questions/3030480/how-do-i-select-elements-of-an-array-given-condition\n",
    "\n",
    "> Suppose I have a numpy array x = [5, 2, 3, 1, 4, 5], y = ['f', 'o', 'o', 'b', 'a', 'r']. I want to select the elements in y corresponding to elements in x that are greater than 1 and less than 5."
   ]
  },
  {
   "cell_type": "code",
   "execution_count": 11,
   "metadata": {},
   "outputs": [
    {
     "name": "stdout",
     "output_type": "stream",
     "text": [
      "['o' 'o' 'a']\n"
     ]
    }
   ],
   "source": [
    "x = np.array([5, 2, 3, 1, 4, 5])\n",
    "y = np.array(['f','o','o','b','a','r'])\n",
    "output = y[(x > 1) & (x < 5)] # desired output is ['o','o','a']\n",
    "print(output)"
   ]
  },
  {
   "cell_type": "markdown",
   "metadata": {},
   "source": [
    "Or, using a mask:"
   ]
  },
  {
   "cell_type": "markdown",
   "metadata": {},
   "source": [
    "\n",
    "#### numpy.compress(condition, a, axis=None, out=None)[source]\n",
    "> Return selected slices of an array along given axis.\n",
    "> When working along a given axis, a slice along that axis is returned in output for each index where condition evaluates to True. When working on a 1-D array, compress is equivalent to extract.\n",
    "> https://numpy.org/doc/stable/reference/generated/numpy.compress.html"
   ]
  },
  {
   "cell_type": "code",
   "execution_count": 12,
   "metadata": {},
   "outputs": [
    {
     "name": "stdout",
     "output_type": "stream",
     "text": [
      "Mask: [ True  True False  True  True] \n",
      " Original array: [0 1 2 3 4] \n",
      " Masked array: [0 1 3 4]\n"
     ]
    }
   ],
   "source": [
    "#(one example: mask)\n",
    "mask = np.full(5,True)\n",
    "mask[2]=False\n",
    "arr = np.arange(5)\n",
    "new_arr = np.compress(mask,arr)\n",
    "print(\"Mask: {} \\n Original array: {} \\n Masked array: {}\".format(mask,arr,new_arr))"
   ]
  },
  {
   "cell_type": "code",
   "execution_count": 13,
   "metadata": {
    "scrolled": true
   },
   "outputs": [
    {
     "name": "stdout",
     "output_type": "stream",
     "text": [
      "[0 1 2 3 4 5 6 7 8 9] \n",
      " [6 7 8 9]\n"
     ]
    }
   ],
   "source": [
    "#compress based on condition\n",
    "arr = np.arange(10)\n",
    "new_arr = np.compress(arr>5,arr)\n",
    "print(arr,'\\n',new_arr)"
   ]
  },
  {
   "cell_type": "markdown",
   "metadata": {},
   "source": [
    "### numpy.take(a, indices, axis=None, out=None, mode='raise')[source]\n",
    ">Take elements from an array along an axis. \\\n",
    ">When axis is not None, this function does the same thing as “fancy” indexing (indexing arrays using arrays); however, it can be easier to use if you need elements along a given axis. A call such as np.take(arr, indices, axis=3) is equivalent to arr[:,:,:,indices,...]. \\\n",
    "> Explained without fancy indexing, this is equivalent to the following use of ndindex, which sets each of ii, jj, and kk to a tuple of indices:\n",
    "> https://numpy.org/doc/stable/reference/generated/numpy.take.html"
   ]
  },
  {
   "cell_type": "code",
   "execution_count": 14,
   "metadata": {},
   "outputs": [
    {
     "name": "stdout",
     "output_type": "stream",
     "text": [
      "[ 0  2  4  6  8 10 12 14 16 18]\n",
      "[       1        2        4        8       16       32       64      128\n",
      "      256      512     1024     2048     4096     8192    16384    32768\n",
      "    65536   131072   262144   524288  1048576  2097152  4194304  8388608\n",
      " 16777216]\n",
      "[     1      4     16     64    256   1024   4096  16384  65536 262144]\n"
     ]
    }
   ],
   "source": [
    "ind = np.arange(0,20,step=2)\n",
    "x_sq = np.array([2**x for x in range(25)])\n",
    "\n",
    "print(ind)\n",
    "print(x_sq)\n",
    "print(np.take(x_sq,ind))"
   ]
  },
  {
   "cell_type": "markdown",
   "metadata": {},
   "source": [
    "## Conditionally populate\n",
    "\n",
    "### numpy.where(condition[, x, y])\n",
    ">Return elements chosen from x or y depending on condition.\\\n",
    ">https://numpy.org/doc/stable/reference/generated/numpy.where.html"
   ]
  },
  {
   "cell_type": "code",
   "execution_count": 15,
   "metadata": {},
   "outputs": [
    {
     "name": "stdout",
     "output_type": "stream",
     "text": [
      "[ 0.92719407 -1.68623154 -0.57333817  1.31506883  1.17210266 -0.87073216\n",
      "  0.70888598  0.69615845 -0.45259     0.52158578] \n",
      " [0.92719407 0.         0.         1.31506883 1.17210266 0.\n",
      " 0.70888598 0.69615845 0.         0.52158578]\n"
     ]
    }
   ],
   "source": [
    "x = np.random.normal(size=10)\n",
    "x_relu = np.where(x>0,x,0)\n",
    "print(x,'\\n',x_relu)"
   ]
  },
  {
   "cell_type": "markdown",
   "metadata": {},
   "source": [
    "## Comparing two arrays\n",
    "\n",
    "### numpy.isclose(a, b, rtol=1e-05, atol=1e-08, equal_nan=False)\n",
    ">Returns a boolean array where two arrays are element-wise equal within a tolerance. \\\n",
    "> The tolerance values are positive, typically very small numbers. The relative difference (rtol * abs(b)) and the absolute difference atol are added together to compare against the absolute difference between a and b.\n",
    "> https://numpy.org/doc/stable/reference/generated/numpy.isclose.html"
   ]
  },
  {
   "cell_type": "code",
   "execution_count": 16,
   "metadata": {},
   "outputs": [
    {
     "name": "stdout",
     "output_type": "stream",
     "text": [
      "[ True  True  True  True  True]\n"
     ]
    }
   ],
   "source": [
    "arr1 = np.ones(5)\n",
    "arr2 = np.ones(5)\n",
    "close = np.isclose(arr1,arr2,atol=1e-7)\n",
    "print(close)"
   ]
  },
  {
   "cell_type": "code",
   "execution_count": 17,
   "metadata": {},
   "outputs": [
    {
     "name": "stdout",
     "output_type": "stream",
     "text": [
      "[ True  True  True  True  True]\n",
      "[False False False False False]\n"
     ]
    }
   ],
   "source": [
    "arr1 = 0.5*np.ones(5)\n",
    "arr2 = np.ones(5)\n",
    "print(np.isclose(arr1,arr2,atol=0.6))\n",
    "print(np.isclose(arr1,arr2,atol=0.4))"
   ]
  },
  {
   "cell_type": "markdown",
   "metadata": {},
   "source": [
    "## Boolean Evaluation"
   ]
  },
  {
   "cell_type": "markdown",
   "metadata": {},
   "source": [
    "### numpy.isinf(x, /, out=None, *, where=True, casting='same_kind', order='K', dtype=None, subok=True[, signature, extobj]) \n",
    ">Test element-wise for positive or negative infinity. \\\n",
    "> Returns a boolean array of the same shape as x, True where x == +/-inf, otherwise False.\\\n",
    ">Parameters: x (array_like, Input values) \\\n",
    ">https://numpy.org/doc/stable/reference/generated/numpy.isinf.html"
   ]
  },
  {
   "cell_type": "code",
   "execution_count": 18,
   "metadata": {},
   "outputs": [
    {
     "name": "stdout",
     "output_type": "stream",
     "text": [
      "True\n",
      "[False  True  True]\n"
     ]
    }
   ],
   "source": [
    "print(np.isinf(np.inf))\n",
    "print(np.isinf([3, np.inf, -np.inf]))"
   ]
  },
  {
   "cell_type": "markdown",
   "metadata": {},
   "source": [
    "### numpy.isnan(x, /, out=None, *, where=True, casting='same_kind', order='K', dtype=None, subok=True[, signature, extobj]) \n",
    ">Test element-wise for NaN and return result as a boolean array.\\\n",
    ">Parameters := x, array_like, Input array.\\\n",
    ">https://numpy.org/doc/stable/reference/generated/numpy.isnan.html"
   ]
  },
  {
   "cell_type": "code",
   "execution_count": 19,
   "metadata": {},
   "outputs": [
    {
     "name": "stdout",
     "output_type": "stream",
     "text": [
      "False\n",
      "[False False False  True]\n"
     ]
    }
   ],
   "source": [
    "print(np.isnan(np.inf))\n",
    "print(np.isnan([3, np.inf, -np.inf, np.nan]))"
   ]
  },
  {
   "cell_type": "markdown",
   "metadata": {},
   "source": [
    "### numpy.all(a, axis=None, out=None, keepdims=<no value>, *, where=<no value>)\n",
    ">Test whether all array elements along a given axis evaluate to True.\\\n",
    ">https://numpy.org/doc/stable/reference/generated/numpy.all.html"
   ]
  },
  {
   "cell_type": "code",
   "execution_count": 20,
   "metadata": {},
   "outputs": [
    {
     "name": "stdout",
     "output_type": "stream",
     "text": [
      "False\n",
      "True\n"
     ]
    }
   ],
   "source": [
    "temp = [True,True,False]\n",
    "print(np.all(temp))\n",
    "print(np.all(temp[0:2]))"
   ]
  },
  {
   "cell_type": "markdown",
   "metadata": {},
   "source": [
    "### numpy.any(a, axis=None, out=None, keepdims=<no value>, *, where=<no value>)\n",
    ">Test whether any array element along a given axis evaluates to True.\n",
    "> Returns single boolean unless axis is not None\n",
    ">https://numpy.org/doc/stable/reference/generated/numpy.any.html"
   ]
  },
  {
   "cell_type": "code",
   "execution_count": 21,
   "metadata": {},
   "outputs": [
    {
     "name": "stdout",
     "output_type": "stream",
     "text": [
      "True\n",
      "False\n"
     ]
    }
   ],
   "source": [
    "temp = [False,False,True]\n",
    "print(np.any(temp))\n",
    "print(np.any(temp[0:2]))"
   ]
  },
  {
   "cell_type": "markdown",
   "metadata": {},
   "source": [
    "## Matrix math and Linear algebra"
   ]
  },
  {
   "cell_type": "markdown",
   "metadata": {},
   "source": [
    "### Matrix inverses\n",
    "\n",
    "### numpy.linalg.inv(a)\n",
    "> Compute the (multiplicative) inverse of a matrix.\\\n",
    "> Given a square matrix a, return the matrix ainv satisfying dot(a, ainv) = dot(ainv, a) = eye(a.shape[0]).\n",
    "\n",
    "> https://numpy.org/doc/stable/reference/generated/numpy.linalg.inv.html\n",
    "\n",
    "### numpy.linalg.pinv(a, rcond=1e-15, hermitian=False)\n",
    ">Compute the (Moore-Penrose) **pseudo-inverse** of a matrix.\\\n",
    ">Calculate the generalized inverse of a matrix using its singular-value decomposition (SVD) and including all large singular values.\\\n",
    "> Changed in version 1.14: Can now operate on stacks of matrices \\\n",
    ">Parameters: a(…, M, N), array_like, := Matrix or stack of matrices to be pseudo-inverted.\n",
    "\n",
    ">https://numpy.org/doc/stable/reference/generated/numpy.linalg.pinv.html"
   ]
  },
  {
   "cell_type": "markdown",
   "metadata": {},
   "source": [
    "# Appendix: non-Numpy tips and tricks:\n",
    "\n",
    "## Printing and String formatting\n",
    "\n",
    "### String number formatting: \n",
    "https://mkaz.blog/code/python-string-format-cookbook/\n",
    "\n",
    "### Printing Greek Letters and special characters:\n",
    "https://pythonforundergradengineers.com/unicode-characters-in-python.html\n",
    "\n",
    "### Printing the ± symbol:"
   ]
  },
  {
   "cell_type": "code",
   "execution_count": 22,
   "metadata": {},
   "outputs": [
    {
     "name": "stdout",
     "output_type": "stream",
     "text": [
      "±\n",
      "±\n"
     ]
    }
   ],
   "source": [
    "print(u\"\\u00B1\")\n",
    "print(\"\\u00B1\")"
   ]
  },
  {
   "cell_type": "markdown",
   "metadata": {},
   "source": [
    "## Python Lambda Functions\n",
    "https://realpython.com/python-lambda/"
   ]
  },
  {
   "cell_type": "markdown",
   "metadata": {},
   "source": [
    "## Jupyter notebook \n",
    "\n",
    "### Keyboard shortcuts\n",
    "https://www.audiolabs-erlangen.de/resources/MIR/FMP/B/B_Jupyter.html\n",
    "\n",
    "### iPython magic commands\n",
    "https://ipython.readthedocs.io/en/stable/interactive/magics.html"
   ]
  },
  {
   "cell_type": "markdown",
   "metadata": {},
   "source": [
    "### Saving output of Jupyter notebook cell to a file:\n",
    "https://stackoverflow.com/questions/27994137/how-to-save-the-output-of-a-cell-in-ipython-notebook"
   ]
  },
  {
   "cell_type": "code",
   "execution_count": null,
   "metadata": {},
   "outputs": [],
   "source": []
  }
 ],
 "metadata": {
  "kernelspec": {
   "display_name": "astro",
   "language": "python",
   "name": "astro"
  },
  "language_info": {
   "codemirror_mode": {
    "name": "ipython",
    "version": 3
   },
   "file_extension": ".py",
   "mimetype": "text/x-python",
   "name": "python",
   "nbconvert_exporter": "python",
   "pygments_lexer": "ipython3",
   "version": "3.8.5"
  }
 },
 "nbformat": 4,
 "nbformat_minor": 4
}
